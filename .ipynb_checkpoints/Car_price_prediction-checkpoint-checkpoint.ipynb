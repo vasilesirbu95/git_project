{
 "cells": [
  {
   "cell_type": "code",
   "execution_count": 61,
   "id": "561b7478-02dd-481e-b096-67ad4f206892",
   "metadata": {},
   "outputs": [
    {
     "name": "stdout",
     "output_type": "stream",
     "text": [
      "         Unnamed: 0  Kilometerstand         Preis      Leistung       Baujahr\n",
      "count  43914.000000    4.391400e+04  4.391400e+04  43914.000000  43914.000000\n",
      "mean   23242.514938    7.236294e+04  1.654544e+04    133.651546   2015.928064\n",
      "std    13397.179484    6.216462e+04  1.945251e+04     75.063780      3.118376\n",
      "min        0.000000    0.000000e+00  1.100000e+03      5.000000   2011.000000\n",
      "25%    11623.250000    2.158050e+04  7.490000e+03     86.000000   2013.000000\n",
      "50%    23274.500000    6.140000e+04  1.099000e+04    116.000000   2016.000000\n",
      "75%    34967.750000    1.060000e+05  1.949000e+04    150.000000   2019.000000\n",
      "max    46399.000000    1.111111e+06  1.199900e+06    850.000000   2021.000000\n"
     ]
    }
   ],
   "source": [
    "\n",
    "\"\"\"\n",
    "Vorhersagen mit Hilfe von Machine Learning Verfahren für ein einziges Fahrzeugmodel erstellen.\n",
    "Folgende ML-Methoden werden eingesetzt:\n",
    "    - Lineare Regression\n",
    "    - Nicht-lineare Regression\n",
    "    - Deep Learning\n",
    "\n",
    "\n",
    "Input: csv-Datei mit bereinigten Daten\n",
    "Output: Vorhergesagte Preise\n",
    "\n",
    "Version: 1.0\n",
    "Entwickler: Vasile Sirbu\n",
    "Datumm: 16.03.2025\n",
    "\"\"\"\n",
    "    \n",
    "import pandas as pd\n",
    "import matplotlib.pyplot as plt\n",
    "import sklearn.linear_model as lm\n",
    "from pathlib import Path\n",
    "from sklearn.linear_model import LinearRegression\n",
    "from sklearn.model_selection import train_test_split\n",
    "from sklearn.preprocessing import OneHotEncoder\n",
    "from sklearn.compose import ColumnTransformer\n",
    "\n",
    "\n",
    "#--------------------------------------------------- Einlesen -------------------------------------------------------------------------\n",
    "dataset = pd.read_csv(\"cleaned_autoscout24-germany-dataset.csv\")\n",
    "\n",
    "\n",
    "#--------------------------------------------------- Gruppieren -------------------------------------------------------------------------\n",
    "\n",
    "# Statistische Beschreibung der Daten \n",
    "print(dataset.describe())\n"
   ]
  },
  {
   "cell_type": "code",
   "execution_count": 73,
   "id": "7255207e-e9ed-44ca-8b30-1fffefab5360",
   "metadata": {},
   "outputs": [
    {
     "ename": "ValueError",
     "evalue": "could not convert string to float: 'Manual'",
     "output_type": "error",
     "traceback": [
      "\u001b[1;31m---------------------------------------------------------------------------\u001b[0m",
      "\u001b[1;31mValueError\u001b[0m                                Traceback (most recent call last)",
      "Cell \u001b[1;32mIn[73], line 1\u001b[0m\n\u001b[1;32m----> 1\u001b[0m \u001b[43mdataset\u001b[49m\u001b[43m[\u001b[49m\u001b[43m[\u001b[49m\u001b[38;5;124;43m\"\u001b[39;49m\u001b[38;5;124;43mPreis\u001b[39;49m\u001b[38;5;124;43m\"\u001b[39;49m\u001b[43m,\u001b[49m\u001b[43m \u001b[49m\u001b[38;5;124;43m\"\u001b[39;49m\u001b[38;5;124;43mKilometerstand\u001b[39;49m\u001b[38;5;124;43m\"\u001b[39;49m\u001b[43m,\u001b[49m\u001b[43m \u001b[49m\u001b[38;5;124;43m\"\u001b[39;49m\u001b[38;5;124;43mLeistung\u001b[39;49m\u001b[38;5;124;43m\"\u001b[39;49m\u001b[43m,\u001b[49m\u001b[43m \u001b[49m\u001b[38;5;124;43m\"\u001b[39;49m\u001b[38;5;124;43mBaujahr\u001b[39;49m\u001b[38;5;124;43m\"\u001b[39;49m\u001b[43m,\u001b[49m\u001b[43m \u001b[49m\u001b[38;5;124;43m\"\u001b[39;49m\u001b[38;5;124;43mGetriebe\u001b[39;49m\u001b[38;5;124;43m\"\u001b[39;49m\u001b[43m]\u001b[49m\u001b[43m]\u001b[49m\u001b[38;5;241;43m.\u001b[39;49m\u001b[43mcorr\u001b[49m\u001b[43m(\u001b[49m\u001b[43m)\u001b[49m\u001b[38;5;241m.\u001b[39mabs()\n",
      "File \u001b[1;32m~\\AppData\\Local\\Programs\\Python\\Python310\\lib\\site-packages\\pandas\\core\\frame.py:11049\u001b[0m, in \u001b[0;36mDataFrame.corr\u001b[1;34m(self, method, min_periods, numeric_only)\u001b[0m\n\u001b[0;32m  11047\u001b[0m cols \u001b[38;5;241m=\u001b[39m data\u001b[38;5;241m.\u001b[39mcolumns\n\u001b[0;32m  11048\u001b[0m idx \u001b[38;5;241m=\u001b[39m cols\u001b[38;5;241m.\u001b[39mcopy()\n\u001b[1;32m> 11049\u001b[0m mat \u001b[38;5;241m=\u001b[39m \u001b[43mdata\u001b[49m\u001b[38;5;241;43m.\u001b[39;49m\u001b[43mto_numpy\u001b[49m\u001b[43m(\u001b[49m\u001b[43mdtype\u001b[49m\u001b[38;5;241;43m=\u001b[39;49m\u001b[38;5;28;43mfloat\u001b[39;49m\u001b[43m,\u001b[49m\u001b[43m \u001b[49m\u001b[43mna_value\u001b[49m\u001b[38;5;241;43m=\u001b[39;49m\u001b[43mnp\u001b[49m\u001b[38;5;241;43m.\u001b[39;49m\u001b[43mnan\u001b[49m\u001b[43m,\u001b[49m\u001b[43m \u001b[49m\u001b[43mcopy\u001b[49m\u001b[38;5;241;43m=\u001b[39;49m\u001b[38;5;28;43;01mFalse\u001b[39;49;00m\u001b[43m)\u001b[49m\n\u001b[0;32m  11051\u001b[0m \u001b[38;5;28;01mif\u001b[39;00m method \u001b[38;5;241m==\u001b[39m \u001b[38;5;124m\"\u001b[39m\u001b[38;5;124mpearson\u001b[39m\u001b[38;5;124m\"\u001b[39m:\n\u001b[0;32m  11052\u001b[0m     correl \u001b[38;5;241m=\u001b[39m libalgos\u001b[38;5;241m.\u001b[39mnancorr(mat, minp\u001b[38;5;241m=\u001b[39mmin_periods)\n",
      "File \u001b[1;32m~\\AppData\\Local\\Programs\\Python\\Python310\\lib\\site-packages\\pandas\\core\\frame.py:1993\u001b[0m, in \u001b[0;36mDataFrame.to_numpy\u001b[1;34m(self, dtype, copy, na_value)\u001b[0m\n\u001b[0;32m   1991\u001b[0m \u001b[38;5;28;01mif\u001b[39;00m dtype \u001b[38;5;129;01mis\u001b[39;00m \u001b[38;5;129;01mnot\u001b[39;00m \u001b[38;5;28;01mNone\u001b[39;00m:\n\u001b[0;32m   1992\u001b[0m     dtype \u001b[38;5;241m=\u001b[39m np\u001b[38;5;241m.\u001b[39mdtype(dtype)\n\u001b[1;32m-> 1993\u001b[0m result \u001b[38;5;241m=\u001b[39m \u001b[38;5;28;43mself\u001b[39;49m\u001b[38;5;241;43m.\u001b[39;49m\u001b[43m_mgr\u001b[49m\u001b[38;5;241;43m.\u001b[39;49m\u001b[43mas_array\u001b[49m\u001b[43m(\u001b[49m\u001b[43mdtype\u001b[49m\u001b[38;5;241;43m=\u001b[39;49m\u001b[43mdtype\u001b[49m\u001b[43m,\u001b[49m\u001b[43m \u001b[49m\u001b[43mcopy\u001b[49m\u001b[38;5;241;43m=\u001b[39;49m\u001b[43mcopy\u001b[49m\u001b[43m,\u001b[49m\u001b[43m \u001b[49m\u001b[43mna_value\u001b[49m\u001b[38;5;241;43m=\u001b[39;49m\u001b[43mna_value\u001b[49m\u001b[43m)\u001b[49m\n\u001b[0;32m   1994\u001b[0m \u001b[38;5;28;01mif\u001b[39;00m result\u001b[38;5;241m.\u001b[39mdtype \u001b[38;5;129;01mis\u001b[39;00m \u001b[38;5;129;01mnot\u001b[39;00m dtype:\n\u001b[0;32m   1995\u001b[0m     result \u001b[38;5;241m=\u001b[39m np\u001b[38;5;241m.\u001b[39masarray(result, dtype\u001b[38;5;241m=\u001b[39mdtype)\n",
      "File \u001b[1;32m~\\AppData\\Local\\Programs\\Python\\Python310\\lib\\site-packages\\pandas\\core\\internals\\managers.py:1694\u001b[0m, in \u001b[0;36mBlockManager.as_array\u001b[1;34m(self, dtype, copy, na_value)\u001b[0m\n\u001b[0;32m   1692\u001b[0m         arr\u001b[38;5;241m.\u001b[39mflags\u001b[38;5;241m.\u001b[39mwriteable \u001b[38;5;241m=\u001b[39m \u001b[38;5;28;01mFalse\u001b[39;00m\n\u001b[0;32m   1693\u001b[0m \u001b[38;5;28;01melse\u001b[39;00m:\n\u001b[1;32m-> 1694\u001b[0m     arr \u001b[38;5;241m=\u001b[39m \u001b[38;5;28;43mself\u001b[39;49m\u001b[38;5;241;43m.\u001b[39;49m\u001b[43m_interleave\u001b[49m\u001b[43m(\u001b[49m\u001b[43mdtype\u001b[49m\u001b[38;5;241;43m=\u001b[39;49m\u001b[43mdtype\u001b[49m\u001b[43m,\u001b[49m\u001b[43m \u001b[49m\u001b[43mna_value\u001b[49m\u001b[38;5;241;43m=\u001b[39;49m\u001b[43mna_value\u001b[49m\u001b[43m)\u001b[49m\n\u001b[0;32m   1695\u001b[0m     \u001b[38;5;66;03m# The underlying data was copied within _interleave, so no need\u001b[39;00m\n\u001b[0;32m   1696\u001b[0m     \u001b[38;5;66;03m# to further copy if copy=True or setting na_value\u001b[39;00m\n\u001b[0;32m   1698\u001b[0m \u001b[38;5;28;01mif\u001b[39;00m na_value \u001b[38;5;129;01mis\u001b[39;00m lib\u001b[38;5;241m.\u001b[39mno_default:\n",
      "File \u001b[1;32m~\\AppData\\Local\\Programs\\Python\\Python310\\lib\\site-packages\\pandas\\core\\internals\\managers.py:1753\u001b[0m, in \u001b[0;36mBlockManager._interleave\u001b[1;34m(self, dtype, na_value)\u001b[0m\n\u001b[0;32m   1751\u001b[0m     \u001b[38;5;28;01melse\u001b[39;00m:\n\u001b[0;32m   1752\u001b[0m         arr \u001b[38;5;241m=\u001b[39m blk\u001b[38;5;241m.\u001b[39mget_values(dtype)\n\u001b[1;32m-> 1753\u001b[0m     \u001b[43mresult\u001b[49m\u001b[43m[\u001b[49m\u001b[43mrl\u001b[49m\u001b[38;5;241;43m.\u001b[39;49m\u001b[43mindexer\u001b[49m\u001b[43m]\u001b[49m \u001b[38;5;241m=\u001b[39m arr\n\u001b[0;32m   1754\u001b[0m     itemmask[rl\u001b[38;5;241m.\u001b[39mindexer] \u001b[38;5;241m=\u001b[39m \u001b[38;5;241m1\u001b[39m\n\u001b[0;32m   1756\u001b[0m \u001b[38;5;28;01mif\u001b[39;00m \u001b[38;5;129;01mnot\u001b[39;00m itemmask\u001b[38;5;241m.\u001b[39mall():\n",
      "\u001b[1;31mValueError\u001b[0m: could not convert string to float: 'Manual'"
     ]
    }
   ],
   "source": [
    "dataset[[\"Preis\", \"Kilometerstand\", \"Leistung\", \"Baujahr\", \"Getriebe\"]].corr().abs()"
   ]
  },
  {
   "cell_type": "code",
   "execution_count": 31,
   "id": "b3918c5d-f613-4e1a-9db5-03757efedd49",
   "metadata": {},
   "outputs": [
    {
     "name": "stdout",
     "output_type": "stream",
     "text": [
      "       Unnamed: 0  Kilometerstand   Marke Model Kraftstoff   Getriebe  Preis  \\\n",
      "345           359           47000  Jaguar    XF   Gasoline  Automatic  24950   \n",
      "3267         3411          193830  Jaguar    XF     Diesel  Automatic  10000   \n",
      "3792         3965            7580  Jaguar    XF     Diesel  Automatic  36890   \n",
      "3823         3998            3500  Jaguar    XF     Diesel  Automatic  57880   \n",
      "4060         4260          169785  Jaguar    XF     Diesel  Automatic  10440   \n",
      "7293         7674          187000  Jaguar    XF     Diesel  Automatic  12900   \n",
      "7297         7678          222584  Jaguar    XF     Diesel  Automatic  12950   \n",
      "7584         7978           54655  Jaguar    XF     Diesel  Automatic  34890   \n",
      "7808         8208           16597  Jaguar    XF     Diesel  Automatic  65604   \n",
      "10993       11638          236000  Jaguar    XF     Diesel  Automatic   9900   \n",
      "11672       12382           81104  Jaguar    XF     Diesel  Automatic  29975   \n",
      "16924       18018           84217  Jaguar    XF     Diesel  Automatic  14999   \n",
      "17011       18105          109174  Jaguar    XF     Diesel  Automatic  17990   \n",
      "17186       18285          139700  Jaguar    XF     Diesel  Automatic  15490   \n",
      "17743       18860          121216  Jaguar    XF     Diesel  Automatic  14352   \n",
      "19708       20932           74000  Jaguar    XF     Diesel  Automatic  32866   \n",
      "22034       23354           99870  Jaguar    XF     Diesel  Automatic  18890   \n",
      "22703       24046          102150  Jaguar    XF     Diesel  Automatic  23950   \n",
      "23477       24874           67878  Jaguar    XF     Diesel  Automatic  28890   \n",
      "23573       24972          150000  Jaguar    XF     Diesel  Automatic   4199   \n",
      "23694       25095           25650  Jaguar    XF     Diesel  Automatic  36726   \n",
      "24448       25889           53170  Jaguar    XF   Gasoline  Automatic  29880   \n",
      "28903       30655           14975  Jaguar    XF     Diesel  Automatic  44900   \n",
      "31788       33802           66038  Jaguar    XF     Diesel  Automatic  28999   \n",
      "32148       34168          195600  Jaguar    XF     Diesel  Automatic   8200   \n",
      "33395       35436          195000  Jaguar    XF     Diesel  Automatic  12000   \n",
      "34361       36423          239995  Jaguar    XF     Diesel  Automatic  11500   \n",
      "34483       36546           99650  Jaguar    XF     Diesel  Automatic  13499   \n",
      "34811       36884           95000  Jaguar    XF     Diesel  Automatic  17970   \n",
      "38578       40720           92480  Jaguar    XF     Diesel  Automatic  20900   \n",
      "39419       41571           30500  Jaguar    XF     Diesel  Automatic  28800   \n",
      "39764       41920           49579  Jaguar    XF     Diesel  Automatic  34995   \n",
      "39765       41921           38366  Jaguar    XF     Diesel  Automatic  35774   \n",
      "40648       42810           38807  Jaguar    XF     Diesel  Automatic  27989   \n",
      "\n",
      "       Leistung  Baujahr  \n",
      "345       200.0     2018  \n",
      "3267      200.0     2013  \n",
      "3792      179.0     2019  \n",
      "3823      204.0     2021  \n",
      "4060      241.0     2012  \n",
      "7293      275.0     2014  \n",
      "7297      275.0     2014  \n",
      "7584      300.0     2018  \n",
      "7808      300.0     2020  \n",
      "10993     241.0     2013  \n",
      "11672     300.0     2018  \n",
      "16924     211.0     2011  \n",
      "17011     275.0     2015  \n",
      "17186     275.0     2013  \n",
      "17743     241.0     2012  \n",
      "19708     241.0     2012  \n",
      "22034     163.0     2016  \n",
      "22703     179.0     2018  \n",
      "23477     241.0     2017  \n",
      "23573     211.0     2011  \n",
      "23694     179.0     2018  \n",
      "24448     340.0     2016  \n",
      "28903     300.0     2020  \n",
      "31788     241.0     2018  \n",
      "32148     190.0     2011  \n",
      "33395     190.0     2012  \n",
      "34361     241.0     2013  \n",
      "34483     200.0     2013  \n",
      "34811     241.0     2013  \n",
      "38578     179.0     2017  \n",
      "39419     300.0     2017  \n",
      "39764     300.0     2018  \n",
      "39765     241.0     2018  \n",
      "40648     179.0     2018  \n"
     ]
    }
   ],
   "source": [
    "# Die Daten für ein bestimmtes Fahrzeug gruppieren und sortieren\n",
    "data_one_car_model = dataset[(dataset[\"Marke\"] == \"Jaguar\") & (dataset[\"Model\"] == \"XF\")]\n",
    "print(data_one_car_model)"
   ]
  },
  {
   "cell_type": "code",
   "execution_count": 32,
   "id": "828fdded-a8ab-40fb-8b96-b9f6355e36dc",
   "metadata": {},
   "outputs": [
    {
     "data": {
      "text/plain": [
       "(Kraftstoff\n",
       " Diesel      32\n",
       " Gasoline     2\n",
       " Name: count, dtype: int64,\n",
       " Getriebe\n",
       " Automatic    34\n",
       " Name: count, dtype: int64)"
      ]
     },
     "execution_count": 32,
     "metadata": {},
     "output_type": "execute_result"
    }
   ],
   "source": [
    "#--------------------------------------------------- Lineare Regression -------------------------------------------------------------------------\n",
    "# Zuweisen der Linearen Regression einer Variable\n",
    "model = LinearRegression()\n",
    "\n",
    "# Ordner zum Speichern der Ergebnisse\n",
    "save_path = Path(\"./ML_AUDI_A4\")\n",
    "\n",
    "# Name des Plots\n",
    "name_plt = 'AUDI_A4.png'\n",
    "\n",
    "# Speicher-Pfad für die erstellte Abbildung\n",
    "path_plot = save_path.joinpath(name_plt)\n",
    "\n",
    "count_elem_fuel = data_one_car_model[\"Kraftstoff\"].value_counts()\n",
    "count_elem_gearbox = data_one_car_model[\"Getriebe\"].value_counts()\n",
    "\n",
    "count_elem_fuel, count_elem_gearbox\n",
    "#data_one_car_model[data_one_car_model[\"Kraftstoff\"].value_counts() >= 10]\n"
   ]
  },
  {
   "cell_type": "code",
   "execution_count": null,
   "id": "0c68f2b6-fb5b-4a66-be27-fadd607c85d7",
   "metadata": {},
   "outputs": [],
   "source": [
    "\n",
    "# Speichern von X in ein bestimmtes Format X = [[Element 1], [Element 2],...]\n",
    "#X = data_one_car_model[\"Baujahr\"].to_numpy().reshape(-1,1)\n",
    "X = data_one_car_model[[\"Baujahr\", \"Kilometerstand\", \"Leistung\", \"Getriebe\", \"Kraftstoff\"]]\n",
    "\n",
    "# Transformation der Spalten, um qualitative Features erfassbar zu machen\n",
    "cf = ColumnTransformer([(\"Getriebe_Kraftstoff\", OneHotEncoder(drop = \"first\"), [\"Getriebe\", \"Kraftstoff\"])], remainder = \"passthrough\")\n",
    "\n",
    "# Fitten von cf\n",
    "cf.fit(X)\n",
    "\n",
    "# Transformation von X\n",
    "X_transformed = cf.transform(X)\n",
    "\n",
    "# Speichern des Outputs in die Variable y\n",
    "y = data_one_car_model[\"Preis\"]\n",
    "\n",
    "# Aufteilen in Train und Test Daten\n",
    "X_train, X_test, y_train, y_test = train_test_split(X_transformed, y, train_size=0.8, random_state=42)\n",
    "\n",
    "# Trainieren des Modells\n",
    "model.fit(X_train,y_train)\n",
    "\n",
    "# Bestimmtheitsmaß r^2\n",
    "print(\"Train: \", model.score(X_train,y_train))\n",
    "print(\"Test: \", model.score(X_test,y_test))\n"
   ]
  },
  {
   "cell_type": "code",
   "execution_count": 45,
   "id": "9bb2ddf4-02a0-4e39-94e5-09b60019a2dd",
   "metadata": {},
   "outputs": [
    {
     "name": "stdout",
     "output_type": "stream",
     "text": [
      "Train:  0.8717750032783632\n",
      "Test:  0.6756621867005932\n"
     ]
    }
   ],
   "source": [
    "# Speichern von X in ein bestimmtes Format X = [[Element 1], [Element 2],...]\n",
    "#X = data_one_car_model[\"Baujahr\"].to_numpy().reshape(-1,1)\n",
    "X = data_one_car_model[[\"Baujahr\", \"Kilometerstand\", \"Leistung\"]]\n",
    "\n",
    "# Speichern des Outputs in die Variable y\n",
    "y = data_one_car_model[\"Preis\"]\n",
    "\n",
    "# Aufteilen in Train und Test Daten\n",
    "X_train, X_test, y_train, y_test = train_test_split(X, y, train_size=0.8, random_state=42)\n",
    "\n",
    "# Trainieren des Modells\n",
    "model.fit(X_train,y_train)\n",
    "\n",
    "# Bestimmtheitsmaß r^2\n",
    "print(\"Train: \", model.score(X_train,y_train))\n",
    "print(\"Test: \", model.score(X_test,y_test))"
   ]
  },
  {
   "cell_type": "code",
   "execution_count": 59,
   "id": "9c3003fd-7ceb-4e3a-a18e-2b8d58146e37",
   "metadata": {},
   "outputs": [
    {
     "name": "stdout",
     "output_type": "stream",
     "text": [
      "Mein Auto soll [18029.26174562] Euro kosten\n"
     ]
    },
    {
     "name": "stderr",
     "output_type": "stream",
     "text": [
      "C:\\Users\\admin\\AppData\\Local\\Programs\\Python\\Python310\\lib\\site-packages\\sklearn\\utils\\validation.py:2739: UserWarning: X does not have valid feature names, but LinearRegression was fitted with feature names\n",
      "  warnings.warn(\n"
     ]
    },
    {
     "data": {
      "image/png": "[encoded data removed]",
      "text/plain": [
       "<Figure size 640x480 with 1 Axes>"
      ]
     },
     "metadata": {},
     "output_type": "display_data"
    },
    {
     "data": {
      "text/plain": [
       "<Figure size 640x480 with 0 Axes>"
      ]
     },
     "metadata": {},
     "output_type": "display_data"
    }
   ],
   "source": [
    "# Prädizierte Werte für alle Input-Einträge berechnen\n",
    "predicted_price = model.predict(X) \n",
    "\n",
    "print(f'Mein Auto soll {model.predict([[2016, 210000, 300]])} Euro kosten')\n",
    "\n",
    "# Plotten der tatsächlichen und prädizierten Werte in einem einzigen Plot\n",
    "plt.scatter(X['Baujahr'], y, label=name_plt)\n",
    "plt.plot(X[\"Baujahr\"], predicted_price, color = \"red\")\n",
    "plt.title(name_plt)\n",
    "plt.xlabel('Baujahr')\n",
    "plt.ylabel('Preis')\n",
    "plt.legend()\n",
    "plt.show()\n",
    "plt.savefig(path_plot)\n",
    "#plt.close()"
   ]
  },
  {
   "cell_type": "code",
   "execution_count": null,
   "id": "a4e09e43-ca1b-4daa-87ed-2bd90d800e1c",
   "metadata": {},
   "outputs": [],
   "source": []
  },
  {
   "cell_type": "code",
   "execution_count": null,
   "id": "2d69d392-1bbd-49ba-b4cc-966bdf5be253",
   "metadata": {},
   "outputs": [],
   "source": []
  }
 ],
 "metadata": {
  "kernelspec": {
   "display_name": "Python 3 (ipykernel)",
   "language": "python",
   "name": "python3"
  },
  "language_info": {
   "codemirror_mode": {
    "name": "ipython",
    "version": 3
   },
   "file_extension": ".py",
   "mimetype": "text/x-python",
   "name": "python",
   "nbconvert_exporter": "python",
   "pygments_lexer": "ipython3",
   "version": "3.10.11"
  }
 },
 "nbformat": 4,
 "nbformat_minor": 5
}
